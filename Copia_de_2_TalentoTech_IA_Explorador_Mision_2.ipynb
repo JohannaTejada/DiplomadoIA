{
  "nbformat": 4,
  "nbformat_minor": 0,
  "metadata": {
    "colab": {
      "provenance": [],
      "include_colab_link": true
    },
    "kernelspec": {
      "name": "python3",
      "display_name": "Python 3"
    },
    "language_info": {
      "name": "python"
    }
  },
  "cells": [
    {
      "cell_type": "markdown",
      "metadata": {
        "id": "view-in-github",
        "colab_type": "text"
      },
      "source": [
        "<a href=\"https://colab.research.google.com/github/JohannaTejada/DiplomadoIA/blob/main/Copia_de_2_TalentoTech_IA_Explorador_Mision_2.ipynb\" target=\"_parent\"><img src=\"https://colab.research.google.com/assets/colab-badge.svg\" alt=\"Open In Colab\"/></a>"
      ]
    },
    {
      "cell_type": "markdown",
      "source": [
        "<img alt='CC' height='30px' src='https://creativecommons.org/images/deed/cc_blue_x2.png' align='left' hspace='0px' vspace='0px'>\n",
        "<img alt='Attribution' height='30px' src='https://creativecommons.org/images/deed/attribution_icon_blue_x2.png' align='left' hspace='0px' vspace='0px'>\n",
        "<img alt='NC' height='30px' src='https://creativecommons.org/images/deed/nc_blue_x2.png' align='left' hspace='0px' vspace='0px'>\n",
        "<img alt='SA' height='30px' src='https://creativecommons.org/images/deed/sa_blue_x2.png' align='left' hspace='0px' vspace='0px'>\n",
        "</p>\n",
        "<br>\n",
        "<div align='right'>\n",
        "<h1> <b> Inteligencia Artificial - Explorador</h1>\n",
        "<h2> 🤖 MISION 2 </font><br> Predicción y Evaluación de Modelos con Aprendizaje Supervisado</b>\n",
        "<h2> <font size=5>Ing. Julián Darío Giraldo Ocampo M.Sc.</font></H3>\n",
        "  <a href='mailto:julian.giraldoo@udea.edu.co'> ✉ [ julian.giraldoo@udea.edu.co ]</a> |\n",
        "  <a href='mailto:ingenieria@juliangiraldo.co'> ✉ [ ingenieria@juliangiraldo.co ]</a>\n",
        "</div>\n",
        "\n",
        "<br>\n",
        "\n",
        "*Contenido Digital para el Bootcamp de Talento Tech - Region 2*\n",
        "\n",
        "---"
      ],
      "metadata": {
        "id": "bGVQWJWTKTjk"
      }
    },
    {
      "cell_type": "markdown",
      "source": [
        "<img src = 'https://github.com/juliandariogiraldoocampo/ia_taltech/blob/main/Inteligencia_Artificial.png?raw=true'>"
      ],
      "metadata": {
        "id": "Am5zT1-5G1HA"
      }
    },
    {
      "cell_type": "markdown",
      "source": [
        "# <strong> Introducción a la Predicción</strong>"
      ],
      "metadata": {
        "id": "vdEaIv-jOqGF"
      }
    },
    {
      "cell_type": "markdown",
      "source": [
        "En esta misión exploraremos los fundamentos del **aprendizaje automático**, enfocándonos en los modelos **supervisados**, una introducción breve a los modelos **no supervisados**, y las **métricas de evaluación** que permiten validar su desempeño.\n",
        "\n",
        "---\n",
        "\n",
        "## 🎯 Aprendizaje Supervisado\n",
        "\n",
        "El **aprendizaje supervisado** parte de datos etiquetados, es decir, donde se conoce el valor de salida o respuesta. <font size = 4><u>El objetivo es construir un modelo capaz de predecir dicha salida a partir de nuevas entradas.</u>\n",
        "\n",
        "### 🧮 Modelos comunes:\n",
        "\n",
        "- **Regresión lineal** (para variables continuas)\n",
        "- **Regresión logística**\n",
        "- **Árboles de decisión**\n",
        "- **Máquinas de soporte vectorial (SVM)**\n",
        "- **Naive Bayes**\n",
        "- Otros modelos que usan **métricas de clasificación**\n",
        "\n",
        "---\n",
        "\n",
        "## 🧭 Aprendizaje No Supervisado\n",
        "\n",
        "En el **aprendizaje no supervisado** no existen etiquetas en los datos. Se utiliza principalmente para descubrir patrones o estructuras internas.\n",
        "\n",
        "### Ejemplo representativo:\n",
        "\n",
        "- **K-Means**: un algoritmo de agrupamiento (clustering) que organiza los datos en grupos según su similitud.\n",
        "\n",
        "---\n",
        "\n",
        "## 📏 Validación y Métricas\n",
        "\n",
        "Una parte crítica del modelado es evaluar si el modelo es bueno prediciendo nuevos datos. Esto se logra con técnicas de validación y métricas específicas, dependiendo del tipo de problema.\n",
        "\n",
        "---\n",
        "\n",
        "### 📈 Métricas para modelos de regresión\n",
        "\n",
        "- **Error Cuadrático Medio (MSE)**\n",
        "- **Raíz del Error Cuadrático Medio (RMSE)**\n",
        "- **Error Absoluto Medio (MAE)**\n",
        "- **R-cuadrado (R² - Coeficiente de determinación)**\n",
        "- **R-cuadrado ajustado**\n",
        "\n",
        "---\n",
        "\n",
        "### 🧮 Métricas para modelos de clasificación\n",
        "\n",
        "- **Matriz de confusión**\n",
        "- **Precision**\n",
        "- **Recall**\n",
        "- **F1 Score**\n",
        "- **Curva ROC**\n",
        "\n",
        "---\n",
        "\n",
        "✅ A lo largo de esta misión, aplicaremos estos conceptos en un contexto realista de salud, utilizando un conjunto de datos biomédico. Nuestro primer paso será trabajar con un modelo de **regresión lineal**, aprovechando variables clínicas reales para predecir resultados numéricos.\n",
        "\n",
        "¿Listos para comenzar? 💻\n"
      ],
      "metadata": {
        "id": "L5wDfftdQPTY"
      }
    },
    {
      "cell_type": "markdown",
      "source": [
        "# EL DATASET\n",
        "\n",
        "Vamos a configurar paso a paso un proyecto en Visual Studio Code para trabajar con el dataset de enfermedad cardíaca del repositorio de UCI. Usaremos la librería ucimlrepo para descargar los datos directamente y trabajaremos sobre una estructura clara y escalable.\n",
        "<br>\n",
        "<hr>\n",
        "<center>Los datos están en: <a href = 'https://archive.ics.uci.edu/dataset/45/heart+disease'>https://archive.ics.uci.edu/dataset/45/heart+disease</a></center>\n",
        "<hr>\n",
        "\n",
        "Los datos contienen las siguienets columnas, características, dimensiones o atributos:;\n",
        "\n",
        "### 📋 Variables del Conjunto de Datos de Enfermedad Cardíaca\n",
        "\n",
        "Aquí están las 14 variables más utilizadas en estudios previos:\n",
        "\n",
        "<center>\n",
        "\n",
        "| Variable   | Descripción                                                                 |\n",
        "|------------|------------------------------------------------------------------------------|\n",
        "| `age`      | <font size = 3>Edad en años                                                                 |\n",
        "| `sex`      | <font size = 3>Sexo (1 = masculino; 0 = femenino)                                           |\n",
        "| `cp`       | <font size = 3>Tipo de dolor en el pecho (1-4)                                              |\n",
        "| `trestbps` | <font size = 3>Presión arterial en reposo (mm Hg)                                           |\n",
        "| `chol`     | <font size = 3>Colesterol sérico en mg/dl                                                   |\n",
        "| `fbs`      | <font size = 3>Azúcar en sangre en ayunas > 120 mg/dl (1 = verdadero; 0 = falso)            |\n",
        "| `restecg`  | <font size = 3>Resultados del electrocardiograma en reposo (0-2)                            |\n",
        "| `thalach`  | <font size = 3>Frecuencia cardíaca máxima alcanzada                                         |\n",
        "| `exang`    | <font size = 3>Angina inducida por ejercicio (1 = sí; 0 = no)                               |\n",
        "| `oldpeak`  | <font size = 3>Depresión del ST inducida por ejercicio en relación al reposo               |\n",
        "| `slope`    | <font size = 3>Pendiente del segmento ST en el ejercicio máximo (1-3)                      |\n",
        "| `ca`       | <font size = 3>Número de vasos principales coloreados por fluoroscopia (0-3)               |\n",
        "| `thal`     | <font size = 3>3 = normal; 6 = defecto fijo; 7 = defecto reversible                         |\n",
        "| `num`      | <font size = 3>Diagnóstico de enfermedad cardíaca (0 = ausencia; 1-4 = presencia)           |\n",
        "\n",
        "> 🔎 **Nota:** Para tareas de **clasificación binaria**, se suele convertir `num` en 0 (ausencia) y 1 (presencia).\n",
        "\n"
      ],
      "metadata": {
        "id": "gTk21JXA0mXJ"
      }
    },
    {
      "cell_type": "markdown",
      "source": [
        "# LA ESTRUCTURA DEL PROYECTO\n",
        "\n",
        "En la carpeta o directorio que hemos elegido para el proyecto, se debe contyar con la siguiente estructura.\n",
        "\n",
        "<center><img src = \"https://github.com/juliandariogiraldoocampo/ia_taltech/blob/main/Estructura%20Proyecto_Heart_Disease.png?raw=true\"></center>\n",
        "\n",
        "Nota: La carpeta env/ no es necesario crearla, puyes definir el entorno virtual lo hace por mi.\n",
        "\n",
        "\n"
      ],
      "metadata": {
        "id": "32BPaQiY23BC"
      }
    },
    {
      "cell_type": "markdown",
      "source": [
        "## 🧪 Paso a Paso en Visual Studio Code\n",
        "\n",
        "**¿Qué es y para que un entorno virtual?**\n",
        "\n",
        "Un entorno virtual en Python es un espacio aislado donde puedes instalar paquetes y dependencias específicas para un proyecto, sin afectar la configuración global de Python en tu sistema.\n",
        "\n",
        "¿Para qué se usa?\n",
        "\n",
        "- ✅ Evitar conflictos entre versiones de librerías usadas en distintos proyectos.\n",
        "- ✅ Reproducibilidad: otros usuarios pueden replicar tu proyecto instalando exactamente las mismas versiones.\n",
        "- ✅ Organización: cada proyecto mantiene su propio entorno limpio e independiente\n"
      ],
      "metadata": {
        "id": "xIPtbC1E0_YH"
      }
    },
    {
      "cell_type": "markdown",
      "source": [
        "1. Crear entorno virtual\n",
        "\n",
        "Abre la terminal en la raíz del proyecto:\n",
        "\n",
        "\n",
        "```python\n",
        "# Abre la terminal en la raíz del proyecto:\n",
        "\n",
        "# Crear el entorno virtual\n",
        "python -m venv env\n",
        "\n",
        "# Activar el entorno\n",
        "\n",
        "# En WINDOWS\n",
        ".\\env\\Scripts\\activate\n",
        "\n",
        "# Si tienen dificultades por Permisos de Administración\n",
        "env\\Scripts\\activate.bat\n",
        "\n",
        "# en MAC\n",
        "source env/bin/activate\n",
        "```\n",
        "\n"
      ],
      "metadata": {
        "id": "qQRL1sFwhGtI"
      }
    },
    {
      "cell_type": "markdown",
      "source": [
        "2. Instalar dependencias\n",
        "\n",
        "\n",
        "\n",
        "```python\n",
        "pip install pandas numpy matplotlib seaborn scikit-learn ucimlrepo\n",
        "\n",
        "# Y guarda las dependencias\n",
        "pip freeze > requirements.txt\n",
        "```\n",
        "\n"
      ],
      "metadata": {
        "id": "38S-8NG-1N1m"
      }
    },
    {
      "cell_type": "markdown",
      "source": [
        "3. Descargar y explorar los datos `main.py`\n",
        "\n",
        "Crea `src/main.py` con este contenido"
      ],
      "metadata": {
        "id": "hM07PG3F1XML"
      }
    },
    {
      "cell_type": "code",
      "source": [
        "from ucimlrepo import fetch_ucirepo\n",
        "import pandas as pd\n",
        "\n",
        "# Cargar el dataset\n",
        "heart_disease = fetch_ucirepo(name='Heart Disease')\n",
        "\n",
        "# Convertir a DataFrame\n",
        "X = heart_disease.data.features\n",
        "y = heart_disease.data.targets\n",
        "\n",
        "# Unir ambos para una vista completa\n",
        "df = pd.concat([X, y], axis=1)\n",
        "\n",
        "# Guardar los datos como CSV\n",
        "df.to_csv('./data/heart_disease_raw.csv', index=False)\n",
        "\n",
        "# Mostrar las primeras filas\n",
        "print(df.head())\n"
      ],
      "metadata": {
        "id": "V3QJZ2r_1gJx"
      },
      "execution_count": null,
      "outputs": []
    },
    {
      "cell_type": "markdown",
      "source": [
        "4. Limpieza inicial - `preprocess.py`"
      ],
      "metadata": {
        "id": "cZ5eQgOu1qwB"
      }
    },
    {
      "cell_type": "code",
      "source": [
        "import pandas as pd\n",
        "\n",
        "def clean_heart_data(df):\n",
        "    # Eliminar filas con valores faltantes representados como '?'\n",
        "    df_clean = df.replace('?', pd.NA).dropna()\n",
        "\n",
        "    # Convertir columnas a tipo numérico si es necesario\n",
        "    df_clean = df_clean.apply(pd.to_numeric, errors='coerce')\n",
        "\n",
        "    return df_clean\n"
      ],
      "metadata": {
        "id": "XeG2YSDU1vUA"
      },
      "execution_count": null,
      "outputs": []
    },
    {
      "cell_type": "markdown",
      "source": [
        "5. README.md\n",
        "\n",
        "Creemos este archivo base en markdown"
      ],
      "metadata": {
        "id": "FCgVriXW1yJ_"
      }
    },
    {
      "cell_type": "code",
      "source": [
        "# Heart Disease Prediction Project\n",
        "\n",
        "Este proyecto aplica técnicas de aprendizaje automático para predecir la presencia de enfermedad cardíaca a partir de variables clínicas.\n",
        "\n",
        "## Estructura del proyecto\n",
        "\n",
        "- `env/`: Entorno virtual (ignorado por Git)\n",
        "- `data/`: Datos locales (no subidos al repositorio)\n",
        "- `src/`: Código fuente\n",
        "  - `main.py`: Entrenamiento y evaluación de modelos\n",
        "  - `preprocess.py`: Limpieza y codificación de variables\n",
        "- `requirements.txt`: Lista de dependencias\n",
        "- `README.md`: Documentación general\n",
        "\n",
        "## Instalación (en Windows)\n",
        "\n",
        "# 1. Clonar el repositorio:\n",
        "\n",
        "```bash\n",
        "git clone https://github.com/tu_usuario/heart-disease-project.git\n",
        "cd heart-disease-project\n",
        "\n",
        "# 2. Crear y activar entorno virtual\n",
        "python -m venv env\n",
        ".\\env\\Scripts\\activate\n",
        "# en Mac:\n",
        "# source env/bin/activate\n",
        "\n",
        "# 3. Instalar las dependencias:\n",
        "pip install -r requirements.txt"
      ],
      "metadata": {
        "id": "7HFuTOQH1zPR"
      },
      "execution_count": null,
      "outputs": []
    },
    {
      "cell_type": "markdown",
      "source": [
        "# Análisis Exploratorio de Datos - EDA\n"
      ],
      "metadata": {
        "id": "KPfRYblG2UB6"
      }
    },
    {
      "cell_type": "markdown",
      "source": [
        "## 🧪 PASO 1: Cargar y limpiar los datos\n",
        "\n",
        "Vamos a realizar el Análisis Exploratorio de Datos (EDA) desde `src/main.py`, asumiendo que ya descargaste el dataset y guardaste el archivo `heart_disease_raw.csv` en la carpeta /data."
      ],
      "metadata": {
        "id": "O7lFuK8j2ARB"
      }
    },
    {
      "cell_type": "code",
      "source": [
        "import pandas as pd\n",
        "import matplotlib.pyplot as plt\n",
        "import seaborn as sns\n",
        "from src.preprocess import clean_heart_data\n",
        "\n",
        "# Cargar datos\n",
        "df = pd.read_csv('./data/heart_disease_raw.csv')\n",
        "\n",
        "# Limpiar datos\n",
        "df_clean = clean_heart_data(df)\n",
        "\n",
        "# Guardar versión limpia\n",
        "df_clean.to_csv('./data/heart_disease_clean.csv', index=False)\n"
      ],
      "metadata": {
        "id": "pKheClYt2Pb_"
      },
      "execution_count": null,
      "outputs": []
    },
    {
      "cell_type": "markdown",
      "source": [
        "## 📊 PASO 2: Estadísticas descriptivas y tipos de variables\n"
      ],
      "metadata": {
        "id": "AFTYah0B2bfT"
      }
    },
    {
      "cell_type": "markdown",
      "source": [
        "print(\"Primeras filas del dataset limpio:\")\n",
        "print(df_clean.head())\n",
        "\n",
        "print(\"\\nResumen estadístico:\")\n",
        "print(df_clean.describe())\n",
        "\n",
        "print(\"\\nTipos de datos:\")\n",
        "print(df_clean.dtypes)\n"
      ],
      "metadata": {
        "id": "MXetX3Ut2eVN"
      }
    },
    {
      "cell_type": "markdown",
      "source": [
        "## 📈 PASO 3: Distribuciones univariadas"
      ],
      "metadata": {
        "id": "maSN76xS2hjJ"
      }
    },
    {
      "cell_type": "code",
      "source": [
        "# Visualizar la distribución de las variables numéricas\n",
        "df_clean.hist(bins=20, figsize=(14, 10), color='skyblue')\n",
        "plt.suptitle('Distribuciones de variables numéricas')\n",
        "plt.tight_layout()\n",
        "plt.show()"
      ],
      "metadata": {
        "id": "_g7uZKuA2jQL"
      },
      "execution_count": null,
      "outputs": []
    },
    {
      "cell_type": "markdown",
      "source": [
        "## 🧩 PASO 4: Matriz de correlaciones"
      ],
      "metadata": {
        "id": "xEktdVdu2lfw"
      }
    },
    {
      "cell_type": "code",
      "source": [
        "plt.figure(figsize=(12, 10))\n",
        "correlation = df_clean.corr()\n",
        "sns.heatmap(correlation, annot=True, cmap='coolwarm', fmt='.2f', square=True)\n",
        "plt.title('Matriz de correlaciones')\n",
        "plt.show()"
      ],
      "metadata": {
        "id": "gmVEJVyG2neB"
      },
      "execution_count": null,
      "outputs": []
    },
    {
      "cell_type": "markdown",
      "source": [
        "## 💡 PASO 5: Análisis según variable objetivo (num)\n",
        "\n",
        "La variable num indica la presencia (1-4) o ausencia (0) de enfermedad cardíaca. Para clasificación binaria se puede redefinir así:"
      ],
      "metadata": {
        "id": "I5azuDjB2pNK"
      }
    },
    {
      "cell_type": "code",
      "source": [
        "# Clasificación binaria: 0 = sin enfermedad, 1 = con enfermedad\n",
        "df_clean['target_bin'] = df_clean['num'].apply(lambda x: 0 if x == 0 else 1)\n",
        "\n",
        "# Conteo de clases\n",
        "sns.countplot(data=df_clean, x='target_bin', palette='pastel')\n",
        "plt.title('Distribución de clases (ausencia vs presencia de enfermedad cardíaca)')\n",
        "plt.xlabel('Enfermedad cardíaca (0 = No, 1 = Sí)')\n",
        "plt.ylabel('Número de pacientes')\n",
        "plt.show()\n"
      ],
      "metadata": {
        "id": "lXg-uB8Z2u0d"
      },
      "execution_count": null,
      "outputs": []
    },
    {
      "cell_type": "markdown",
      "source": [
        "# 🎁BONUS - Git y Github\n",
        "\n",
        "<font size = 5>🛠 ¿Qué es Git?\n",
        "\n",
        "Sistema de control de versiones que registra los cambios en tu código fuente y permite volver a estados anteriores.\n",
        "\n",
        "<font size = 5>🌐 ¿Qué es GitHub?\n",
        "\n",
        "Plataforma web para hospedar repositorios Git, colaborar en proyectos y trabajar desde cualquier parte.\n",
        "\n",
        "<font size = 5> ⏬ Sitio de Descarga\n",
        "\n",
        "[Sitio Oficial de **Git**](https://git-scm.com/downloads/win)\n",
        "\n",
        "<br><br>\n",
        "<font size = 5>🔹 Ventajas</font>\n",
        "\n",
        "\n",
        "| <font size = 3>Característica         | <font size = 3>Beneficio                                        |\n",
        "| ---------------------- | ------------------------------------------------ |\n",
        "| <font size = 3>Historial de cambios   | <font size = 3>Puedes volver atrás si algo falla                |\n",
        "| <font size = 3>Trabajo en equipo      | <font size = 3>Cada persona trabaja en su propia rama           |\n",
        "| <font size = 3>Comparación y revisión | <font size = 3>Facilita encontrar errores y revisar aportes     |\n",
        "| <font size = 3>Backup remoto          | <font size = 3>Seguridad y disponibilidad desde cualquier lugar |\n",
        "\n",
        "<br>\n",
        "<font size = 5>🔹 Forma de uso</font>\n",
        "\n",
        "<font size = 4>📌 1. Conectar Git con la cuenta de GitHub (una vez)\n",
        "\n",
        "\n",
        "```\n",
        "git config --global user.name \"TuNombre\"\n",
        "git config --global user.email \"tu@email.com\"\n",
        "```\n",
        "\n",
        "<font size = 4>📌 2. Clonar un repositorio de GitHub\n",
        "\n",
        "```\n",
        "git clone https://github.com/usuario/repositorio.git\n",
        "cd repositorio\n",
        "```\n",
        "\n",
        "<font size = 4>📌 3. Actualizar y subir tus cambios\n",
        "\n",
        "``` git\n",
        "# Ver estado (opcional)\n",
        "git status\n",
        "\n",
        "# Agregar archivos nuevos o modificados\n",
        "git add .\n",
        "\n",
        "# Confirmar cambios\n",
        "git commit -m \"Descripción breve del cambio\"\n",
        "\n",
        "# Subir al repositorio remoto\n",
        "git push origin main  # o la rama correspondiente\n",
        "```"
      ],
      "metadata": {
        "id": "PCNwGWoUOyND"
      }
    }
  ]
}